{
 "cells": [
  {
   "cell_type": "markdown",
   "id": "45a94c12",
   "metadata": {},
   "source": [
    "## CIFAR10 Results\n",
    "\n",
    "In this notebook we will show our results reported in the paper."
   ]
  },
  {
   "cell_type": "code",
   "execution_count": 1,
   "id": "7cc54e06",
   "metadata": {},
   "outputs": [],
   "source": [
    "import torch\n",
    "import os, sys\n",
    "import numpy as np"
   ]
  },
  {
   "cell_type": "code",
   "execution_count": 2,
   "id": "6bfe08c0",
   "metadata": {},
   "outputs": [],
   "source": [
    "HOME_DIRECTORY=os.path.abspath(os.path.join(os.getcwd(), os.pardir))\n",
    "\n",
    "os.chdir(HOME_DIRECTORY)\n",
    "\n",
    "lSet_partition=1\n",
    "seed_id=1\n",
    "dataset=\"CIFAR10\"\n",
    "RESULTS_DIRECTORY=os.path.join(HOME_DIRECTORY,f\"results/best_automl_results/lSet_{lSet_partition}/start_{seed_id}/{dataset}/10.0/vgg_depth_16\")\n",
    "SR_MODEL_PATH=os.path.join(HOME_DIRECTORY,f\"results/best_automl_results/lSet_{lSet_partition}/start_{seed_id}/{dataset}/10.0/vgg_depth_16/swa_rand_aug/checkpoints/[SWA]valSet_acc_82.26_model_epoch_0151.pyth\")\n",
    "MODEL_PATH = os.path.join(HOME_DIRECTORY,f\"results/best_automl_results/lSet_{lSet_partition}/start_{seed_id}/{dataset}/10.0/vgg_depth_16/vanilla/checkpoints/vlBest_acc_70.47999824523926_model_epoch_0144.pyth\")                                \n",
    "    "
   ]
  },
  {
   "cell_type": "code",
   "execution_count": null,
   "id": "d9ac04bb",
   "metadata": {},
   "outputs": [],
   "source": [
    "# Evaluating strongly-regularized model i.e SWA and RA regularization techniques were applied."
   ]
  },
  {
   "cell_type": "code",
   "execution_count": 3,
   "id": "c63d7a34",
   "metadata": {},
   "outputs": [
    {
     "name": "stdout",
     "output_type": "stream",
     "text": [
      "avail_nGPUS:  b'8\\n'\n",
      "======================================\n",
      "~~~~~~ CFG.NUM_GPUS:  2\n",
      "======================================\n",
      "----------------------------\n",
      "Proc_rank: 0, World_size: 2\n",
      "----------------------------\n",
      "----------------------------\n",
      "Proc_rank: 1, World_size: 2\n",
      "----------------------------\n",
      "type(cfg):  <class 'yacs.config.CfgNode'>\n",
      "type(cfg):  <class 'yacs.config.CfgNode'>\n",
      "########### cfg model type: vgg\n",
      "[model_builder.py: 167]: Model loaded successfully!!\n",
      "-------------\n",
      "model with grad as bucket view: True\n",
      "-------------\n",
      "Params: 119,590,474\n",
      "Flops: 418,059,264\n",
      "==============================\n",
      "cfg.NUM_GPUS:  2\n",
      "==============================\n",
      "Loaded model weights from: /nfs/users/ext_prateek.munjal/projects/active_learning_codebase_automl/results/best_automl_results/lSet_1/start_1/CIFAR10/10.0/vgg_depth_16/swa_rand_aug/checkpoints/[SWA]valSet_acc_82.26_model_epoch_0151.pyth\n",
      "Dataset is augmented\n",
      "--------------------------------------\n",
      "Preprocess Operations Selected ==>  [ToTensor()]\n",
      "--------------------------------------\n",
      "Files already downloaded and verified\n",
      "=============================\n",
      "IndexedDistributedSampler data sampler\n",
      "sampler: <pycls.datasets.sampler.IndexedDistributedSampler object at 0x7fdd2ba07390> where repeatAllow: False and dropLast: False\n",
      "=============================\n",
      "[logging.py:  75]: json_stats: {\"_type\": \"test_iter\", \"epoch\": \"1/3\", \"iter\": \"40/50\", \"top1_err\": 18.250001907349}\n",
      "[logging.py:  75]: json_stats: {\"_type\": \"test_epoch\", \"epoch\": \"1/3\", \"min_top1_err\": 17.840002002716, \"top1_err\": 17.840002002716}\n",
      "Test Accuracy: 82.160\n",
      "=================================\n",
      "==== TRYING TO DESTROY PROCESS GROUP ====\n",
      "==== FINALLY DESTROYED PROCESS GROUP ====\n",
      "=================================\n",
      "Test accuracy [npy|txt] are saved at /nfs/users/ext_prateek.munjal/projects/active_learning_codebase_automl/results/best_automl_results/lSet_1/start_1/CIFAR10/10.0/vgg_depth_16/swa_rand_aug/test_acc_\n",
      "==In main function==\n",
      "[Acquisition:random;Seed:1]Test accuracy on cifar10 using 10.0% of data is 82.15999799728394\n"
     ]
    }
   ],
   "source": [
    "!python $HOME_DIRECTORY/tools/test_net.py \\\n",
    "--cfg $RESULTS_DIRECTORY/swa_rand_aug/config.yaml \\\n",
    "TEST.WEIGHTS $SR_MODEL_PATH"
   ]
  },
  {
   "cell_type": "code",
   "execution_count": null,
   "id": "4d245ba9",
   "metadata": {},
   "outputs": [],
   "source": [
    "# Evaluating without strong regularization"
   ]
  },
  {
   "cell_type": "code",
   "execution_count": 4,
   "id": "979e731c",
   "metadata": {},
   "outputs": [
    {
     "name": "stdout",
     "output_type": "stream",
     "text": [
      "avail_nGPUS:  b'8\\n'\n",
      "======================================\n",
      "~~~~~~ CFG.NUM_GPUS:  1\n",
      "======================================\n",
      "########### cfg model type: vgg\n",
      "[model_builder.py: 167]: Model loaded successfully!!\n",
      "Params: 119,590,474\n",
      "Flops: 418,059,264\n",
      "==============================\n",
      "cfg.NUM_GPUS:  1\n",
      "==============================\n",
      "Loaded model weights from: /nfs/users/ext_prateek.munjal/projects/active_learning_codebase_automl/results/best_automl_results/lSet_1/start_1/CIFAR10/10.0/vgg_depth_16/vanilla/checkpoints/vlBest_acc_70.47999824523926_model_epoch_0144.pyth\n",
      "Dataset is augmented\n",
      "--------------------------------------\n",
      "Preprocess Operations Selected ==>  [ToTensor()]\n",
      "--------------------------------------\n",
      "Files already downloaded and verified\n",
      "[logging.py:  75]: json_stats: {\"_type\": \"test_iter\", \"epoch\": \"1/150\", \"iter\": \"40/50\", \"top1_err\": 30.750000000000}\n",
      "[logging.py:  75]: json_stats: {\"_type\": \"test_epoch\", \"epoch\": \"1/150\", \"min_top1_err\": 30.840001983643, \"top1_err\": 30.840001983643}\n",
      "Test Accuracy: 69.160\n",
      "Test accuracy [npy|txt] are saved at /nfs/users/ext_prateek.munjal/projects/active_learning_codebase_automl/results/best_automl_results/lSet_1/start_1/CIFAR10/10.0/vgg_depth_16/vanilla/test_acc_\n",
      "==In main function==\n",
      "[Acquisition:random;Seed:1]Test accuracy on cifar10 using 10.0% of data is 69.15999801635742\n"
     ]
    }
   ],
   "source": [
    "!python $HOME_DIRECTORY/tools/test_net.py \\\n",
    "--cfg $RESULTS_DIRECTORY/vanilla/config.yaml \\\n",
    "TEST.WEIGHTS $MODEL_PATH"
   ]
  },
  {
   "cell_type": "code",
   "execution_count": null,
   "id": "0d541003",
   "metadata": {},
   "outputs": [],
   "source": []
  }
 ],
 "metadata": {
  "kernelspec": {
   "display_name": "Python 3",
   "language": "python",
   "name": "python3"
  },
  "language_info": {
   "codemirror_mode": {
    "name": "ipython",
    "version": 3
   },
   "file_extension": ".py",
   "mimetype": "text/x-python",
   "name": "python",
   "nbconvert_exporter": "python",
   "pygments_lexer": "ipython3",
   "version": "3.6.13"
  }
 },
 "nbformat": 4,
 "nbformat_minor": 5
}
