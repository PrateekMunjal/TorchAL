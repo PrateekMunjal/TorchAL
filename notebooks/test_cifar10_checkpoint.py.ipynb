{
 "cells": [
  {
   "cell_type": "code",
   "execution_count": 1,
   "id": "352cab55",
   "metadata": {},
   "outputs": [],
   "source": [
    "import torch\n",
    "import numpy as np\n",
    "import os, sys\n",
    "import yaml\n",
    "\n",
    "HOME_DIRECTORY=os.path.abspath(os.path.join(os.getcwd(), os.pardir))\n",
    "\n",
    "os.chdir(HOME_DIRECTORY)\n",
    "\n",
    "# This notebook assumes installation of gdown.\n",
    "# If not, kindly install it via pip i.e pip install gdown"
   ]
  },
  {
   "cell_type": "markdown",
   "id": "538b757c",
   "metadata": {},
   "source": [
    "## Download shared checkpoints"
   ]
  },
  {
   "cell_type": "code",
   "execution_count": null,
   "id": "3e28f55e",
   "metadata": {},
   "outputs": [],
   "source": [
    "!gdown --folder --no-cookies 102nZ5pCofBDncKDFQc9tnyvQ8__IcIOi -O ./notebooks"
   ]
  },
  {
   "cell_type": "code",
   "execution_count": 2,
   "id": "80fe6124",
   "metadata": {},
   "outputs": [
    {
     "name": "stdout",
     "output_type": "stream",
     "text": [
      "Active_Sampling.ipynb\t   cifar10_results.ipynb\r\n",
      "active_set_indexes\t   reproducible_active_set.ipynb\r\n",
      "automl_rsb_resnet18.ipynb  ‪results‬‏\r\n",
      "automl_rsb_vanilla.ipynb   test_cifar10_checkpoint.py.ipynb\r\n",
      "budgetsize_exp.ipynb\t   valSetexp_cifar10.ipynb\r\n",
      "check_results\r\n"
     ]
    }
   ],
   "source": [
    "# active_set_indexes is the folder shared containing active set indexes for AL iteration of 10% to 20%\n",
    "# results is the folder shared containing model checkpoints trained on 10% of CIFAR10/100 datasets \n",
    "# for both with and without strong-regularization settings.\n",
    "!ls ./notebooks"
   ]
  },
  {
   "cell_type": "markdown",
   "id": "dddbcc77",
   "metadata": {},
   "source": [
    "## CIFAR10 model on 10% Labeled data without strong regularization\n",
    "\n",
    "Here we reproduce the test set performance reported in the main paper."
   ]
  },
  {
   "cell_type": "code",
   "execution_count": 4,
   "id": "9c9cf794",
   "metadata": {},
   "outputs": [
    {
     "name": "stdout",
     "output_type": "stream",
     "text": [
      "/nfs/users/ext_prateek.munjal/projects/active_learning_codebase_automl/notebooks/‪results‬‏/‪best_automl_results‬‏/‪lSet_1‬‏/‪start_1‬‏/‪CIFAR10‬‏/10.0/‪vgg_depth_16‬‏/‪swa_rand_aug‬‏/‪checkpoints‬‏/[SWA]valSet_acc_82.26_model_epoch_0151.pyth\n"
     ]
    }
   ],
   "source": [
    "# Test cifar10 base classifier trained on 10% labeled data; L1\n",
    "\n",
    "ckpt_path=r\"/nfs/users/ext_prateek.munjal/projects/active_learning_codebase_automl/notebooks/‪results‬‏/‪best_automl_results‬‏/‪lSet_1‬‏/‪start_1‬‏/‪CIFAR10‬‏/10.0/‪vgg_depth_16‬‏/‪swa_rand_aug‬‏/‪checkpoints‬‏/[SWA]valSet_acc_82.26_model_epoch_0151.pyth\"\n",
    "config_path=r\"/nfs/users/ext_prateek.munjal/projects/active_learning_codebase_automl/notebooks/‪results‬‏/‪best_automl_results‬‏/‪lSet_1‬‏/‪start_1‬‏/‪CIFAR10‬‏/10.0/‪vgg_depth_16‬‏/‪swa_rand_aug‬‏/config.yaml\"\n",
    "\n",
    "print(ckpt_path)\n",
    "\n",
    "assert os.path.isfile(ckpt_path)\n",
    "assert os.path.isfile(config_path)"
   ]
  },
  {
   "cell_type": "markdown",
   "id": "34c20ead",
   "metadata": {},
   "source": [
    "## Update the config file\n",
    "\n",
    "Kindly check the LSET_PATH, USET_PATH, VALSET_PATH points to the correct dataset indexes.\n",
    "Also, modify OUT_DIR as per your choice - the program writes the test set accuracy in this path."
   ]
  },
  {
   "cell_type": "code",
   "execution_count": 5,
   "id": "2460536a",
   "metadata": {},
   "outputs": [
    {
     "name": "stdout",
     "output_type": "stream",
     "text": [
      "avail_nGPUS:  b'8\\n'\n",
      "======================================\n",
      "~~~~~~ CFG.NUM_GPUS:  2\n",
      "======================================\n",
      "----------------------------\n",
      "Proc_rank: 0, World_size: 2\n",
      "----------------------------\n",
      "----------------------------\n",
      "Proc_rank: 1, World_size: 2\n",
      "----------------------------\n",
      "type(cfg):  <class 'yacs.config.CfgNode'>\n",
      "type(cfg):  <class 'yacs.config.CfgNode'>\n",
      "########### cfg model type: vgg\n",
      "[model_builder.py: 167]: Model loaded successfully!!\n",
      "-------------\n",
      "model with grad as bucket view: True\n",
      "-------------\n",
      "Params: 119,590,474\n",
      "Flops: 418,059,264\n",
      "==============================\n",
      "cfg.NUM_GPUS:  2\n",
      "==============================\n",
      "Loaded model weights from: /nfs/users/ext_prateek.munjal/projects/active_learning_codebase_automl/notebooks/‪results‬‏/‪best_automl_results‬‏/‪lSet_1‬‏/‪start_1‬‏/‪CIFAR10‬‏/10.0/‪vgg_depth_16‬‏/‪swa_rand_aug‬‏/‪checkpoints‬‏/[SWA]valSet_acc_82.26_model_epoch_0151.pyth\n",
      "Dataset is augmented\n",
      "--------------------------------------\n",
      "Preprocess Operations Selected ==>  [ToTensor()]\n",
      "--------------------------------------\n",
      "Files already downloaded and verified\n",
      "=============================\n",
      "IndexedDistributedSampler data sampler\n",
      "sampler: <pycls.datasets.sampler.IndexedDistributedSampler object at 0x7f30dd4683c8> where repeatAllow: False and dropLast: False\n",
      "=============================\n",
      "[logging.py:  75]: json_stats: {\"_type\": \"test_iter\", \"epoch\": \"1/3\", \"iter\": \"40/50\", \"top1_err\": 18.250001907349}\n",
      "[logging.py:  75]: json_stats: {\"_type\": \"test_epoch\", \"epoch\": \"1/3\", \"min_top1_err\": 17.840002002716, \"top1_err\": 17.840002002716}\n",
      "Test Accuracy: 82.160\n",
      "=================================\n",
      "==== TRYING TO DESTROY PROCESS GROUP ====\n",
      "==== FINALLY DESTROYED PROCESS GROUP ====\n",
      "=================================\n",
      "Test accuracy [npy|txt] are saved at /nfs/users/ext_prateek.munjal/projects/active_learning_codebase_automl/notebooks/check_results/test_acc_\n",
      "==In main function==\n",
      "[Acquisition:random;Seed:1]Test accuracy on cifar10 using 10.0% of data is 82.15999799728394\n"
     ]
    }
   ],
   "source": [
    "!python3 tools/test_net.py --cfg $config_path TEST.WEIGHTS $ckpt_path"
   ]
  },
  {
   "cell_type": "markdown",
   "id": "eafd1f41",
   "metadata": {},
   "source": [
    "## Test accuracy\n",
    "\n",
    "We refer interested readers to Table 3 reported in our main paper where we report 82.16% test set performance under strong-regularization (RA, SWA)."
   ]
  }
 ],
 "metadata": {
  "kernelspec": {
   "display_name": "Python 3",
   "language": "python",
   "name": "python3"
  },
  "language_info": {
   "codemirror_mode": {
    "name": "ipython",
    "version": 3
   },
   "file_extension": ".py",
   "mimetype": "text/x-python",
   "name": "python",
   "nbconvert_exporter": "python",
   "pygments_lexer": "ipython3",
   "version": "3.6.13"
  }
 },
 "nbformat": 4,
 "nbformat_minor": 5
}
