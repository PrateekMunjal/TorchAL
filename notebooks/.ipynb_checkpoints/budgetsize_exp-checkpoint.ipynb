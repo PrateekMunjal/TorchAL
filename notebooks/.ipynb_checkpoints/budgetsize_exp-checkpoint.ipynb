{
 "cells": [
  {
   "cell_type": "code",
   "execution_count": 1,
   "id": "aa49b0dc",
   "metadata": {},
   "outputs": [],
   "source": [
    "import torch\n",
    "import os, sys\n",
    "import numpy as np"
   ]
  },
  {
   "cell_type": "code",
   "execution_count": 2,
   "id": "50b16c8e",
   "metadata": {},
   "outputs": [],
   "source": [
    "HOME_DIRECTORY=os.path.abspath(os.path.join(os.getcwd(), os.pardir))\n",
    "\n",
    "os.chdir(HOME_DIRECTORY)"
   ]
  },
  {
   "cell_type": "code",
   "execution_count": 3,
   "id": "23a67cb1",
   "metadata": {},
   "outputs": [],
   "source": [
    "os.environ[\"CUDA_DEVICE_ORDER\"] = \"PCI_BUS_ID\" # sync ids with nvidia-smi\n",
    "os.environ[\"CUDA_VISIBLE_DEVICES\"] = \"0\" \n",
    "os.environ[\"MKL_SERVICE_FORCE_INTEL\"]=\"1\""
   ]
  },
  {
   "cell_type": "code",
   "execution_count": 4,
   "id": "85ee53ef",
   "metadata": {},
   "outputs": [],
   "source": [
    "# script params\n",
    "port=5015\n",
    "sampling_fn=\"uncertainty\"\n",
    "lSet_partition=1\n",
    "base_seed=1\n",
    "num_GPU=1\n",
    "al_iterations=4\n",
    "num_aml_trials=5 #50\n",
    "budget_size=2500\n",
    "\n",
    "dataset=\"CIFAR10\"\n",
    "init_partition=10\n",
    "step_partition=10\n",
    "clf_epochs=5 #150\n",
    "num_classes=10\n",
    "swa_lr=5e-4\n",
    "swa_freq=50\n",
    "swa_epochs=5 #50\n",
    "\n",
    "log_iter=40\n",
    "\n",
    "#Data arguments\n",
    "train_dir=f\"{HOME_DIRECTORY}/data/{dataset}/train-{dataset}/\"\n",
    "test_dir=f\"{HOME_DIRECTORY}/data/{dataset}/test-{dataset}/\"\n",
    "lSetPath=f\"{HOME_DIRECTORY}/data/{dataset}/partition_{lSet_partition}/lSet_{dataset}.npy\"\n",
    "uSetPath=f\"{HOME_DIRECTORY}/data/{dataset}/partition_{lSet_partition}/uSet_{dataset}.npy\"\n",
    "valSetPath=f\"{HOME_DIRECTORY}/data/{dataset}/partition_{lSet_partition}/valSet_{dataset}.npy\"\n",
    "\n",
    "out_dir=f\"{HOME_DIRECTORY}/sample_budgetsize_results\"\n",
    "\n",
    "model_style=\"vgg_style\"\n",
    "model_type=\"vgg\"\n",
    "model_depth=16\n"
   ]
  },
  {
   "cell_type": "code",
   "execution_count": 7,
   "id": "5c0e3629",
   "metadata": {},
   "outputs": [
    {
     "name": "stdout",
     "output_type": "stream",
     "text": [
      "Made best_automl_results directory\n",
      "Copying base classifier started....\n",
      "Copying base classifier finished!\n",
      "Made auto_ml_results directory\n",
      "Copying base classifier checkpoints and config started....\n",
      "Copying finished!\n",
      "\n",
      "Please remember to change paths in config file.\n",
      "For example do replace each \"sample_results_aml\" occurences in paths to \"sample_budgetsize_results\" # old directory name to new directory name\n",
      "\n",
      "\n"
     ]
    }
   ],
   "source": [
    "# It is important to note that we should point results for budget size experiment.\n",
    "# For example: If we don't take care of savepath & assume it points to 10% budget size experiment \n",
    "# then running AL for 15% will have no issues but once we go to 20% - we have earlier results which \n",
    "# should not be used. So for such experiments we just copy the base (trained on initial labeled data) \n",
    "# classifier to new directory and then run any experiments.\n",
    "\n",
    "!mkdir -p $out_dir/best_automl_results/lSet_1/start_1/CIFAR10/10.0/vgg_depth_16\n",
    "print(\"Made best_automl_results directory\")\n",
    "print(\"Copying base classifier started....\")\n",
    "!scp -r sample_results_aml/best_automl_results/lSet_1/start_1/CIFAR10/10.0/vgg_depth_16/vanilla $out_dir/best_automl_results/lSet_1/start_1/CIFAR10/10.0/vgg_depth_16/\n",
    "print(\"Copying base classifier finished!\")\n",
    "\n",
    "# DO the copy again but this time for automl_results\n",
    "!mkdir -p $out_dir/auto_ml_results/lSet_1/start_1/CIFAR10/10.0/vgg_depth_16/vanilla/trial-0\n",
    "print(\"Made auto_ml_results directory\")\n",
    "print(\"Copying base classifier checkpoints and config started....\")\n",
    "!scp -r sample_results_aml/best_automl_results/lSet_1/start_1/CIFAR10/10.0/vgg_depth_16/vanilla/config.yaml $out_dir/auto_ml_results/lSet_1/start_1/CIFAR10/10.0/vgg_depth_16/vanilla/trial-0/\n",
    "!scp -r sample_results_aml/best_automl_results/lSet_1/start_1/CIFAR10/10.0/vgg_depth_16/vanilla/checkpoints $out_dir/auto_ml_results/lSet_1/start_1/CIFAR10/10.0/vgg_depth_16/vanilla/trial-0/\n",
    "print(\"Copying finished!\")\n",
    "\n",
    "print(\"\"\"\n",
    "Please remember to change paths in config file.\n",
    "For example do replace each \"sample_results_aml\" occurences in paths to \"sample_budgetsize_results\" # old directory name to new directory name\n",
    "\n",
    "\"\"\")\n",
    "\n",
    "# Please remember to change paths in config file\n",
    "# For example do replace each \"sample_results_aml\" occurences in paths to \"sample_budgetsize_results\" # old directory name to new directory name\n",
    "\n",
    "# Please also modify budget size to 2500 in config.py\n"
   ]
  },
  {
   "cell_type": "code",
   "execution_count": null,
   "id": "4451c9fc",
   "metadata": {},
   "outputs": [
    {
     "name": "stdout",
     "output_type": "stream",
     "text": [
      "========= [NO ADVANCED REGULARIZATION TRICK ACTIVATED] =========\r\n",
      "~~~ out_dir:  /nfs/users/ext_prateek.munjal/projects/active_learning_codebase_automl/sample_budgetsize_results/auto_ml_results/lSet_1/start_1/CIFAR10/10.0/vgg_depth_16/vanilla\r\n",
      "check_aml_path: \r\n",
      "/nfs/users/ext_prateek.munjal/projects/active_learning_codebase_automl/sample_budgetsize_results/best_automl_results/lSet_1/start_1/CIFAR10/10.0/vgg_depth_16/vanilla/checkpoints\r\n",
      "Auto ml already exists; So skip doing automl for this!\r\n",
      "Number of trials found at /nfs/users/ext_prateek.munjal/projects/active_learning_codebase_automl/sample_budgetsize_results/auto_ml_results/lSet_1/start_1/CIFAR10/10.0/vgg_depth_16/vanilla: 1\r\n",
      "best_model_path chosen: /nfs/users/ext_prateek.munjal/projects/active_learning_codebase_automl/sample_budgetsize_results/auto_ml_results/lSet_1/start_1/CIFAR10/10.0/vgg_depth_16/vanilla/trial-0/checkpoints/vlBest_acc_47.3_model_epoch_0006.pyth\r\n"
     ]
    }
   ],
   "source": [
    "!python3 $HOME_DIRECTORY/tools/main_aml.py --n_GPU $num_GPU \\\n",
    "--port $port --sampling_fn $sampling_fn --lSet_partition $lSet_partition \\\n",
    "--seed_id $base_seed \\\n",
    "--init_partition $init_partition --step_partition $step_partition \\\n",
    "--dataset $dataset --budget_size $budget_size \\\n",
    "--out_dir $out_dir \\\n",
    "--num_aml_trials $num_aml_trials --num_classes $num_classes \\\n",
    "--al_max_iter $al_iterations \\\n",
    "--model_type $model_type --model_depth $model_depth \\\n",
    "--clf_epochs $clf_epochs \\\n",
    "--eval_period 1 --checkpoint_period 1 \\\n",
    "--lSetPath $lSetPath --uSetPath $uSetPath --valSetPath $valSetPath \\\n",
    "--train_dir $train_dir --test_dir $test_dir \\\n",
    "--dropout_iterations 25 \\\n",
    "--cfg configs/$dataset/$model_style/$model_type/R-18_4gpu_unreg.yaml \\\n",
    "--vaal_z_dim 32 --vaal_vae_bs 64 --vaal_epochs 2 \\\n",
    "--vaal_vae_lr 5e-4 --vaal_disc_lr 5e-4 --vaal_beta 1.0 --vaal_adv_param 1.0 "
   ]
  }
 ],
 "metadata": {
  "kernelspec": {
   "display_name": "Python 3",
   "language": "python",
   "name": "python3"
  },
  "language_info": {
   "codemirror_mode": {
    "name": "ipython",
    "version": 3
   },
   "file_extension": ".py",
   "mimetype": "text/x-python",
   "name": "python",
   "nbconvert_exporter": "python",
   "pygments_lexer": "ipython3",
   "version": "3.6.13"
  }
 },
 "nbformat": 4,
 "nbformat_minor": 5
}
